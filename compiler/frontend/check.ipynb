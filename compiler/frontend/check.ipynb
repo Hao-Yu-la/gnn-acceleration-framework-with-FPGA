{
 "cells": [
  {
   "cell_type": "code",
   "execution_count": 5,
   "metadata": {},
   "outputs": [],
   "source": [
    "import os\n",
    "import torch\n",
    "import numpy as np\n",
    "\n",
    "root = \"../IR_and_data/sage-pool-2-16-pubmed/\"\n",
    "model_path = os.path.join(root, \"model.pt\")\n",
    "model = torch.load(model_path)\n",
    "dgl_weight = model.layers[0].state_dict()['fc_pool.weight'].transpose(dim0 = 1, dim1 = 0)\n",
    "np.savetxt(\"dgl_weight1.out\", dgl_weight.cpu().numpy())"
   ]
  },
  {
   "cell_type": "code",
   "execution_count": 6,
   "metadata": {},
   "outputs": [],
   "source": [
    "import os.path as pt\n",
    "\n",
    "np.savetxt(\"ir_weight1.out\", np.load(pt.join(root, \"fc1_weight.npy\")))"
   ]
  }
 ],
 "metadata": {
  "kernelspec": {
   "display_name": "TVM_torch",
   "language": "python",
   "name": "python3"
  },
  "language_info": {
   "codemirror_mode": {
    "name": "ipython",
    "version": 3
   },
   "file_extension": ".py",
   "mimetype": "text/x-python",
   "name": "python",
   "nbconvert_exporter": "python",
   "pygments_lexer": "ipython3",
   "version": "3.9.7"
  },
  "orig_nbformat": 4,
  "vscode": {
   "interpreter": {
    "hash": "fcda534459351ecc57fa336edba6dc9ce1979ef7e4ed81f54ba70140eb814979"
   }
  }
 },
 "nbformat": 4,
 "nbformat_minor": 2
}
